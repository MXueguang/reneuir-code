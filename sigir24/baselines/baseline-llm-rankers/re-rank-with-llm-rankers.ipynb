{
 "cells": [
  {
   "cell_type": "markdown",
   "metadata": {},
   "source": [
    "# LLM-rankers\n",
    "\n",
    "This jupyter notebook uses [llm-rankers](https://github.com/ielab/llm-rankers) to re-rank documents in the context [ReNeuIR 2024](https://reneuir.org/). Please look at the [corresponding publications](https://github.com/ielab/llm-rankers#references) for more details."
   ]
  },
  {
   "cell_type": "markdown",
   "metadata": {},
   "source": [
    "### Step 1: Import dependencies"
   ]
  },
  {
   "cell_type": "code",
   "execution_count": 10,
   "metadata": {},
   "outputs": [],
   "source": [
    "import torch\n",
    "from tqdm import tqdm\n",
    "import pandas as pd\n",
    "from tira.third_party_integrations import ir_datasets, persist_and_normalize_run\n",
    "from llmrankers.setwise import SetwiseLlmRanker\n",
    "from llmrankers.rankers import SearchResult\n",
    "import os\n"
   ]
  },
  {
   "cell_type": "markdown",
   "metadata": {},
   "source": [
    "### Step 2: Load and Transform the Dataset"
   ]
  },
  {
   "cell_type": "code",
   "execution_count": 2,
   "metadata": {},
   "outputs": [],
   "source": [
    "# the \"from tira.third_party_integrations import ir_datasets\" import patches \"ir_datasets.load\"\n",
    "# so that it loads the dataset injected into the tira sandbox when executed within the sandbox.\n",
    "# I.e., we only ensure that it runs on a minimal spot-check dataset here.\n",
    "dataset = ir_datasets.load('reneuir-2024/re-rank-spot-check-20240624-training')"
   ]
  },
  {
   "cell_type": "code",
   "execution_count": 4,
   "metadata": {},
   "outputs": [],
   "source": [
    "qid_to_rerank_data = {}\n",
    "\n",
    "for i in dataset.scoreddocs_iter():\n",
    "    if i.query_id not in qid_to_rerank_data:\n",
    "        qid_to_rerank_data[i.query_id] = {'query': i.query.default_text(), 'search_results': []}\n",
    "    \n",
    "    qid_to_rerank_data[i.query_id]['search_results']  += [\n",
    "        SearchResult(docid=i.doc_id, text=i.document.default_text(), score=i.score)\n",
    "    ]\n"
   ]
  },
  {
   "cell_type": "markdown",
   "metadata": {},
   "source": [
    "### Step 3: Re-Rank"
   ]
  },
  {
   "cell_type": "code",
   "execution_count": 6,
   "metadata": {},
   "outputs": [
    {
     "name": "stdout",
     "output_type": "stream",
     "text": [
      "Will use device: cuda\n",
      "Model is: google/flan-t5-small\n"
     ]
    },
    {
     "name": "stderr",
     "output_type": "stream",
     "text": [
      "Special tokens have been added in the vocabulary, make sure the associated word embeddings are fine-tuned or trained.\n"
     ]
    },
    {
     "name": "stdout",
     "output_type": "stream",
     "text": [
      "Ranker is <llmrankers.setwise.SetwiseLlmRanker object at 0x70ed62807130>\n"
     ]
    }
   ],
   "source": [
    "device = 'cuda' if torch.cuda.is_available() else 'cpu'\n",
    "print('Will use device:', device)\n",
    "\n",
    "# We make the model injectable into the notebook so that we can run multiple models with the same code.\n",
    "model = os.environ.get('MODEL', 'google/flan-t5-small')\n",
    "print('Model is:', model)\n",
    "\n",
    "ranker = SetwiseLlmRanker(model_name_or_path=model, tokenizer_name_or_path=model, device=device)\n",
    "\n",
    "print('Ranker is', ranker)"
   ]
  },
  {
   "cell_type": "code",
   "execution_count": 7,
   "metadata": {},
   "outputs": [
    {
     "name": "stderr",
     "output_type": "stream",
     "text": [
      "  0%|                                                                                                                       | 0/5 [00:00<?, ?it/s]Token indices sequence length is longer than the specified maximum sequence length for this model (532 > 512). Running this sequence through the model will result in indexing errors\n",
      "100%|███████████████████████████████████████████████████████████████████████████████████████████████████████████████| 5/5 [00:22<00:00,  4.41s/it]\n"
     ]
    }
   ],
   "source": [
    "run = []\n",
    "\n",
    "for qid in tqdm(qid_to_rerank_data):\n",
    "    query = qid_to_rerank_data[qid]['query']\n",
    "    search_results = qid_to_rerank_data[qid]['search_results']\n",
    "\n",
    "    for i in ranker.rerank(query, search_results):\n",
    "        run += [{\"qid\": qid, \"score\": i.score, \"docno\": i.docid}]\n"
   ]
  },
  {
   "cell_type": "markdown",
   "metadata": {},
   "source": [
    "### Step 4: Persist run file"
   ]
  },
  {
   "cell_type": "code",
   "execution_count": 11,
   "metadata": {},
   "outputs": [
    {
     "name": "stdout",
     "output_type": "stream",
     "text": [
      "The run file is normalized outside the TIRA sandbox, I will store it at \".\".\n",
      "Done. run file is stored under \"./run.txt\".\n"
     ]
    }
   ],
   "source": [
    "run = pd.DataFrame(run)\n",
    "\n",
    "persist_and_normalize_run(run, system_name=f'llm-rankers-{model}', default_output='.')"
   ]
  }
 ],
 "metadata": {
  "kernelspec": {
   "display_name": "Python 3 (ipykernel)",
   "language": "python",
   "name": "python3"
  },
  "language_info": {
   "codemirror_mode": {
    "name": "ipython",
    "version": 3
   },
   "file_extension": ".py",
   "mimetype": "text/x-python",
   "name": "python",
   "nbconvert_exporter": "python",
   "pygments_lexer": "ipython3",
   "version": "3.10.14"
  }
 },
 "nbformat": 4,
 "nbformat_minor": 4
}

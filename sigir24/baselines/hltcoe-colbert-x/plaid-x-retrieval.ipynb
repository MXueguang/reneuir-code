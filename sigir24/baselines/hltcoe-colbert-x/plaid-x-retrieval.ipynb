{
 "cells": [
  {
   "cell_type": "code",
   "execution_count": 2,
   "id": "b4c24188-1284-4a41-8901-ec98318bd4a0",
   "metadata": {},
   "outputs": [],
   "source": [
    "from tira.third_party_integrations import ir_datasets, get_output_directory\n",
    "import os"
   ]
  },
  {
   "cell_type": "code",
   "execution_count": 3,
   "id": "fa7f21dc-6e79-4258-a4c8-b45cc2d7237a",
   "metadata": {},
   "outputs": [],
   "source": [
    "os.environ['CUDA_VISIBLE_DEVICES'] = '3'"
   ]
  },
  {
   "cell_type": "code",
   "execution_count": 4,
   "id": "ff08774c-5f20-4293-a0e6-07e281c424cf",
   "metadata": {},
   "outputs": [],
   "source": [
    "dataset = ir_datasets.load('reneuir-2024/dl-top-10-docs-20240701-training')"
   ]
  },
  {
   "cell_type": "code",
   "execution_count": 5,
   "id": "b594aef7-846f-4717-949d-11d5f4278f87",
   "metadata": {},
   "outputs": [],
   "source": [
    "from colbert.infra import ColBERTConfig\n",
    "from colbert.data import Collection\n",
    "from colbert import Indexer\n",
    "import numpy as np"
   ]
  },
  {
   "cell_type": "code",
   "execution_count": 6,
   "id": "c9fedaaa-2546-42aa-ab4b-c0e3cda586c2",
   "metadata": {},
   "outputs": [
    {
     "name": "stdout",
     "output_type": "stream",
     "text": [
      "[Jul 05, 11:25:24] Loading decompress_residuals_cpp extension (set COLBERT_LOAD_TORCH_EXTENSION_VERBOSE=True for more info)...\n"
     ]
    },
    {
     "name": "stderr",
     "output_type": "stream",
     "text": [
      "/opt/conda/lib/python3.10/site-packages/torch/utils/cpp_extension.py:1967: UserWarning: TORCH_CUDA_ARCH_LIST is not set, all archs for visible cards are included for compilation. \n",
      "If this is not desired, please set os.environ['TORCH_CUDA_ARCH_LIST'].\n",
      "  warnings.warn(\n"
     ]
    },
    {
     "name": "stdout",
     "output_type": "stream",
     "text": [
      "[Jul 05, 11:25:25] Loading packbits_cpp extension (set COLBERT_LOAD_TORCH_EXTENSION_VERBOSE=True for more info)...\n"
     ]
    },
    {
     "name": "stderr",
     "output_type": "stream",
     "text": [
      "/opt/conda/lib/python3.10/site-packages/torch/utils/cpp_extension.py:1967: UserWarning: TORCH_CUDA_ARCH_LIST is not set, all archs for visible cards are included for compilation. \n",
      "If this is not desired, please set os.environ['TORCH_CUDA_ARCH_LIST'].\n",
      "  warnings.warn(\n"
     ]
    }
   ],
   "source": [
    "# was already compiled in the docker build, should be dast\n",
    "from colbert.indexing.codecs.residual import ResidualCodec\n",
    "ResidualCodec.try_load_torch_extensions(True)"
   ]
  },
  {
   "cell_type": "code",
   "execution_count": 7,
   "id": "932a5045-c215-4cd7-bdc2-b382ea82855c",
   "metadata": {},
   "outputs": [],
   "source": [
    "collection = Collection.cast([ l.default_text() for l in dataset.docs_iter()])\n",
    "indexer = Indexer(checkpoint='hltcoe/plaidx-large-eng-tdist-mt5xxl-engeng', config=ColBERTConfig(bsize=64, nbits=1, root='/tmp/'))\n",
    "output_directory = get_output_directory('/tmp/') + '/index/'"
   ]
  },
  {
   "cell_type": "code",
   "execution_count": null,
   "id": "e5b8ab3a-e47a-43ba-8df4-e9f12e5cc806",
   "metadata": {},
   "outputs": [
    {
     "name": "stdout",
     "output_type": "stream",
     "text": [
      "Start Indexing 6965 documents to \"/tmp//index/\".\n",
      "\n",
      "\n",
      "[Jul 05, 11:25:28] #> Creating directory /tmp//index/ \n",
      "\n",
      "\n",
      "{\n",
      "    \"query_token_id\": \"[unused0]\",\n",
      "    \"doc_token_id\": \"[unused1]\",\n",
      "    \"query_token\": \"[Q]\",\n",
      "    \"doc_token\": \"[D]\",\n",
      "    \"ncells\": null,\n",
      "    \"centroid_score_threshold\": null,\n",
      "    \"ndocs\": null,\n",
      "    \"only_approx\": false,\n",
      "    \"index_path\": null,\n",
      "    \"nbits\": 1,\n",
      "    \"kmeans_niters\": 4,\n",
      "    \"resume\": false,\n",
      "    \"max_sampled_pid\": -1,\n",
      "    \"max_num_partitions\": -1,\n",
      "    \"use_lagacy_build_ivf\": false,\n",
      "    \"reuse_centroids_from\": null,\n",
      "    \"similarity\": \"cosine\",\n",
      "    \"bsize\": 64,\n",
      "    \"accumsteps\": 1,\n",
      "    \"lr\": 5e-6,\n",
      "    \"maxsteps\": 200000,\n",
      "    \"save_every\": null,\n",
      "    \"resume_optimizer\": false,\n",
      "    \"fix_broken_optimizer_state\": false,\n",
      "    \"warmup\": null,\n",
      "    \"warmup_bert\": null,\n",
      "    \"relu\": false,\n",
      "    \"nway\": 6,\n",
      "    \"n_query_alternative\": 1,\n",
      "    \"use_ib_negatives\": false,\n",
      "    \"kd_loss\": \"KLD\",\n",
      "    \"reranker\": false,\n",
      "    \"distillation_alpha\": 1.0,\n",
      "    \"ignore_scores\": false,\n",
      "    \"model_name\": \"xlm-roberta-large\",\n",
      "    \"force_resize_embeddings\": true,\n",
      "    \"shuffle_passages\": true,\n",
      "    \"sampling_max_beta\": 1.0,\n",
      "    \"over_one_epoch\": true,\n",
      "    \"multilang\": false,\n",
      "    \"nolangreg\": false,\n",
      "    \"query_maxlen\": 32,\n",
      "    \"attend_to_mask_tokens\": false,\n",
      "    \"interaction\": \"colbert\",\n",
      "    \"dim\": 128,\n",
      "    \"doc_maxlen\": 220,\n",
      "    \"mask_punctuation\": true,\n",
      "    \"checkpoint\": \"hltcoe\\/plaidx-large-eng-tdist-mt5xxl-engeng\",\n",
      "    \"triples\": \"\\/expscratch\\/eyang\\/workspace\\/plaid-aux\\/training_triples\\/msmarco-passages\\/triples_mt5xxl-monot5-mmarco-engeng.jsonl\",\n",
      "    \"collection\": {\n",
      "        \"provenance\": null\n",
      "    },\n",
      "    \"queries\": \"irds:msmarco-passage\\/train:queries\",\n",
      "    \"index_name\": \"\\/tmp\\/\\/index\\/\",\n",
      "    \"debug\": false,\n",
      "    \"overwrite\": false,\n",
      "    \"root\": \"\\/workspace\\/experiments\",\n",
      "    \"experiment\": \"default\",\n",
      "    \"index_root\": null,\n",
      "    \"name\": \"2024-07\\/05\\/11.25.23\",\n",
      "    \"rank\": 0,\n",
      "    \"nranks\": 1,\n",
      "    \"amp\": true,\n",
      "    \"ivf_num_processes\": 20,\n",
      "    \"ivf_use_tempdir\": false,\n",
      "    \"ivf_merging_ways\": 2,\n",
      "    \"gpus\": 1\n",
      "}\n",
      "[Jul 05, 11:25:28] [0] \t\t Loading model hltcoe/plaidx-large-eng-tdist-mt5xxl-engeng...\n",
      "[Jul 05, 11:25:36] [0] \t\t # of sampled PIDs = 6965 \t sampled_pids[:3] = [3849, 6802, 6952]\n",
      "[Jul 05, 11:25:36] [0] \t\t #> Encoding 6965 passages..\n",
      "[Jul 05, 11:25:51] [0] \t\t avg_doclen_est = 90.55908203125 \t len(local_sample) = 6,965\n",
      "[Jul 05, 11:25:51] [0] \t\t Creaing 8,192 partitions.\n",
      "[Jul 05, 11:25:51] [0] \t\t *Estimated* 630,744 embeddings.\n",
      "[Jul 05, 11:25:51] [0] \t\t #> Saving the indexing plan to /tmp//index/plan.json ..\n",
      "{\n",
      "    \"query_token_id\": \"[unused0]\",\n",
      "    \"doc_token_id\": \"[unused1]\",\n",
      "    \"query_token\": \"[Q]\",\n",
      "    \"doc_token\": \"[D]\",\n",
      "    \"ncells\": null,\n",
      "    \"centroid_score_threshold\": null,\n",
      "    \"ndocs\": null,\n",
      "    \"only_approx\": false,\n",
      "    \"index_path\": null,\n",
      "    \"nbits\": 1,\n",
      "    \"kmeans_niters\": 4,\n",
      "    \"resume\": false,\n",
      "    \"max_sampled_pid\": -1,\n",
      "    \"max_num_partitions\": -1,\n",
      "    \"use_lagacy_build_ivf\": false,\n",
      "    \"reuse_centroids_from\": null,\n",
      "    \"similarity\": \"cosine\",\n",
      "    \"bsize\": 64,\n",
      "    \"accumsteps\": 1,\n",
      "    \"lr\": 5e-6,\n",
      "    \"maxsteps\": 200000,\n",
      "    \"save_every\": null,\n",
      "    \"resume_optimizer\": false,\n",
      "    \"fix_broken_optimizer_state\": false,\n",
      "    \"warmup\": null,\n",
      "    \"warmup_bert\": null,\n",
      "    \"relu\": false,\n",
      "    \"nway\": 6,\n",
      "    \"n_query_alternative\": 1,\n",
      "    \"use_ib_negatives\": false,\n",
      "    \"kd_loss\": \"KLD\",\n",
      "    \"reranker\": false,\n",
      "    \"distillation_alpha\": 1.0,\n",
      "    \"ignore_scores\": false,\n",
      "    \"model_name\": \"xlm-roberta-large\",\n",
      "    \"force_resize_embeddings\": true,\n",
      "    \"shuffle_passages\": true,\n",
      "    \"sampling_max_beta\": 1.0,\n",
      "    \"over_one_epoch\": true,\n",
      "    \"multilang\": false,\n",
      "    \"nolangreg\": false,\n",
      "    \"query_maxlen\": 32,\n",
      "    \"attend_to_mask_tokens\": false,\n",
      "    \"interaction\": \"colbert\",\n",
      "    \"dim\": 128,\n",
      "    \"doc_maxlen\": 220,\n",
      "    \"mask_punctuation\": true,\n",
      "    \"checkpoint\": \"hltcoe\\/plaidx-large-eng-tdist-mt5xxl-engeng\",\n",
      "    \"triples\": \"\\/expscratch\\/eyang\\/workspace\\/plaid-aux\\/training_triples\\/msmarco-passages\\/triples_mt5xxl-monot5-mmarco-engeng.jsonl\",\n",
      "    \"collection\": {\n",
      "        \"provenance\": null\n",
      "    },\n",
      "    \"queries\": \"irds:msmarco-passage\\/train:queries\",\n",
      "    \"index_name\": \"\\/tmp\\/\\/index\\/\",\n",
      "    \"debug\": false,\n",
      "    \"overwrite\": false,\n",
      "    \"root\": \"\\/workspace\\/experiments\",\n",
      "    \"experiment\": \"default\",\n",
      "    \"index_root\": null,\n",
      "    \"name\": \"2024-07\\/05\\/11.25.23\",\n",
      "    \"rank\": 0,\n",
      "    \"nranks\": 1,\n",
      "    \"amp\": true,\n",
      "    \"ivf_num_processes\": 20,\n",
      "    \"ivf_use_tempdir\": false,\n",
      "    \"ivf_merging_ways\": 2,\n",
      "    \"gpus\": 1\n",
      "}\n",
      "[Jul 05, 11:25:52] Loading 1 sample embedding files, expecting 630744 samples\n"
     ]
    }
   ],
   "source": [
    "print(f'Start Indexing {len(collection)} documents to \"{output_directory}\".')\n",
    "\n",
    "indexer.prepare(name=output_directory, collection=collection, overwrite=True)"
   ]
  },
  {
   "cell_type": "code",
   "execution_count": 11,
   "id": "c9d8b353-53d9-492f-b50f-ffb105217061",
   "metadata": {},
   "outputs": [
    {
     "name": "stdout",
     "output_type": "stream",
     "text": [
      "Help on method prepare in module colbert.indexer:\n",
      "\n",
      "prepare(name, collection, overwrite=False, no_kmeans=False) method of colbert.indexer.Indexer instance\n",
      "\n"
     ]
    }
   ],
   "source": [
    "help(indexer.prepare)"
   ]
  }
 ],
 "metadata": {
  "kernelspec": {
   "display_name": "Python 3 (ipykernel)",
   "language": "python",
   "name": "python3"
  },
  "language_info": {
   "codemirror_mode": {
    "name": "ipython",
    "version": 3
   },
   "file_extension": ".py",
   "mimetype": "text/x-python",
   "name": "python",
   "nbconvert_exporter": "python",
   "pygments_lexer": "ipython3",
   "version": "3.10.14"
  }
 },
 "nbformat": 4,
 "nbformat_minor": 5
}

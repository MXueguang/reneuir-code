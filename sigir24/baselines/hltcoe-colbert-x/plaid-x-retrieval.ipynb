{
 "cells": [
  {
   "cell_type": "code",
   "execution_count": 1,
   "id": "44c1b2fa-57ed-4268-8f68-0537e91664bc",
   "metadata": {},
   "outputs": [],
   "source": [
    "from tira.third_party_integrations import ir_datasets, persist_and_normalize_run\n",
    "from tira.rest_api_client import Client\n",
    "from colbert import Searcher\n",
    "import pandas as pd\n",
    "import json\n",
    "import gzip\n",
    "\n",
    "tira = Client()\n",
    "dataset_id = 'reneuir-2024/dl-top-10-docs-20240701-training'\n",
    "dataset = ir_datasets.load(dataset_id)"
   ]
  },
  {
   "cell_type": "code",
   "execution_count": 2,
   "id": "076da12c-5c4a-4408-94b2-d74f283902d6",
   "metadata": {},
   "outputs": [],
   "source": [
    "topics = {str(i.query_id): i.default_text() for i in dataset.queries_iter()}"
   ]
  },
  {
   "cell_type": "code",
   "execution_count": 3,
   "id": "36253f25-a9b1-4abb-a6cb-c6cf338de0d5",
   "metadata": {},
   "outputs": [],
   "source": [
    "plaid_index = tira.get_run_output('reneuir-2024/reneuir-baselines/plaid-x-retrieval', dataset_id) + '/index'\n",
    "document_ids = json.load(gzip.open(f'{plaid_index}/document_ids.json.gz'))"
   ]
  },
  {
   "cell_type": "code",
   "execution_count": 4,
   "id": "5441ac8f-ab35-4754-8dec-ace22574f30f",
   "metadata": {},
   "outputs": [
    {
     "name": "stdout",
     "output_type": "stream",
     "text": [
      "[Jul 05, 19:43:51] [0] \t\t Loading model hltcoe/plaidx-large-eng-tdist-mt5xxl-engeng...\n",
      "[Jul 05, 19:43:59] #> Loading codec...\n",
      "[Jul 05, 19:43:59] Loading decompress_residuals_cpp extension (set COLBERT_LOAD_TORCH_EXTENSION_VERBOSE=True for more info)...\n"
     ]
    },
    {
     "name": "stderr",
     "output_type": "stream",
     "text": [
      "/opt/conda/lib/python3.10/site-packages/torch/utils/cpp_extension.py:1967: UserWarning: TORCH_CUDA_ARCH_LIST is not set, all archs for visible cards are included for compilation. \n",
      "If this is not desired, please set os.environ['TORCH_CUDA_ARCH_LIST'].\n",
      "  warnings.warn(\n"
     ]
    },
    {
     "name": "stdout",
     "output_type": "stream",
     "text": [
      "[Jul 05, 19:43:59] Loading packbits_cpp extension (set COLBERT_LOAD_TORCH_EXTENSION_VERBOSE=True for more info)...\n"
     ]
    },
    {
     "name": "stderr",
     "output_type": "stream",
     "text": [
      "/opt/conda/lib/python3.10/site-packages/torch/utils/cpp_extension.py:1967: UserWarning: TORCH_CUDA_ARCH_LIST is not set, all archs for visible cards are included for compilation. \n",
      "If this is not desired, please set os.environ['TORCH_CUDA_ARCH_LIST'].\n",
      "  warnings.warn(\n"
     ]
    },
    {
     "name": "stdout",
     "output_type": "stream",
     "text": [
      "[Jul 05, 19:43:59] #> Loading IVF...\n",
      "[Jul 05, 19:43:59] #> Loading doclens...\n"
     ]
    },
    {
     "name": "stderr",
     "output_type": "stream",
     "text": [
      "100%|█████████████████████████████████████████████████████████████████████████████████████████████████████████████| 1/1 [00:00<00:00, 1522.43it/s]"
     ]
    },
    {
     "name": "stdout",
     "output_type": "stream",
     "text": [
      "[Jul 05, 19:43:59] #> Loading codes and residuals...\n"
     ]
    },
    {
     "name": "stderr",
     "output_type": "stream",
     "text": [
      "\n",
      "100%|██████████████████████████████████████████████████████████████████████████████████████████████████████████████| 1/1 [00:00<00:00, 188.09it/s]\n"
     ]
    }
   ],
   "source": [
    "searcher = Searcher(index=plaid_index)"
   ]
  },
  {
   "cell_type": "code",
   "execution_count": 5,
   "id": "f226c581-2cb0-4ba4-b625-e16bb0060ef0",
   "metadata": {},
   "outputs": [
    {
     "name": "stdout",
     "output_type": "stream",
     "text": [
      "\n",
      "#> QueryTokenizer.tensorize(batch_text[0], batch_background[0], bsize) ==\n",
      "#> Input: . who is aziz hashim, \t\t True, \t\t None\n",
      "#> Output IDs: torch.Size([32]), tensor([     0, 250002,      5,   2750,     83,    295,   1418,   1556,  10706,\n",
      "             2, 250001, 250001, 250001, 250001, 250001, 250001, 250001, 250001,\n",
      "        250001, 250001, 250001, 250001, 250001, 250001, 250001, 250001, 250001,\n",
      "        250001, 250001, 250001, 250001, 250001])\n",
      "#> Output Mask: torch.Size([32]), tensor([1, 1, 1, 1, 1, 1, 1, 1, 1, 1, 0, 0, 0, 0, 0, 0, 0, 0, 0, 0, 0, 0, 0, 0,\n",
      "        0, 0, 0, 0, 0, 0, 0, 0])\n",
      "\n"
     ]
    },
    {
     "name": "stderr",
     "output_type": "stream",
     "text": [
      "100%|████████████████████████████████████████████████████████████████████████████████████████████████████████████| 97/97 [00:00<00:00, 145.05it/s]\n"
     ]
    }
   ],
   "source": [
    "raw_scores = searcher.search_all(topics, k=1000)"
   ]
  },
  {
   "cell_type": "code",
   "execution_count": 6,
   "id": "dd99358c-abc1-4de1-beb5-b33b39b8e9ac",
   "metadata": {},
   "outputs": [
    {
     "name": "stdout",
     "output_type": "stream",
     "text": [
      "The run file is normalized outside the TIRA sandbox, I will store it at \".\".\n",
      "Done. run file is stored under \"./run.txt\".\n"
     ]
    }
   ],
   "source": [
    "run = []\n",
    "\n",
    "for qid, ranking in raw_scores.items():\n",
    "    for didx, _, score in ranking:\n",
    "        run += [{'qid': qid, 'docno': str(document_ids[didx]), 'score': score}]\n",
    "\n",
    "run = pd.DataFrame(run)\n",
    "\n",
    "persist_and_normalize_run(run, 'plaid-x', '.')"
   ]
  }
 ],
 "metadata": {
  "kernelspec": {
   "display_name": "Python 3 (ipykernel)",
   "language": "python",
   "name": "python3"
  },
  "language_info": {
   "codemirror_mode": {
    "name": "ipython",
    "version": 3
   },
   "file_extension": ".py",
   "mimetype": "text/x-python",
   "name": "python",
   "nbconvert_exporter": "python",
   "pygments_lexer": "ipython3",
   "version": "3.10.14"
  }
 },
 "nbformat": 4,
 "nbformat_minor": 5
}
